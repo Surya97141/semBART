{
  "nbformat": 4,
  "nbformat_minor": 0,
  "metadata": {
    "colab": {
      "provenance": [],
      "authorship_tag": "ABX9TyOf3hjQYTzruDRhAMDABJ+h",
      "include_colab_link": true
    },
    "kernelspec": {
      "name": "python3",
      "display_name": "Python 3"
    },
    "language_info": {
      "name": "python"
    }
  },
  "cells": [
    {
      "cell_type": "markdown",
      "metadata": {
        "id": "view-in-github",
        "colab_type": "text"
      },
      "source": [
        "<a href=\"https://colab.research.google.com/github/Surya97141/semBART/blob/main/ALGTR1_FCC.ipynb\" target=\"_parent\"><img src=\"https://colab.research.google.com/assets/colab-badge.svg\" alt=\"Open In Colab\"/></a>"
      ]
    },
    {
      "cell_type": "code",
      "execution_count": null,
      "metadata": {
        "colab": {
          "base_uri": "https://localhost:8080/"
        },
        "id": "Zfo61wK76Gx9",
        "outputId": "cb7edcd3-a90c-4231-8885-f736334ae09f"
      },
      "outputs": [
        {
          "output_type": "stream",
          "name": "stdout",
          "text": [
            "  Preparing metadata (setup.py) ... \u001b[?25l\u001b[?25hdone\n",
            "  Building wheel for ta (setup.py) ... \u001b[?25l\u001b[?25hdone\n"
          ]
        }
      ],
      "source": [
        "!pip install yfinance pandas numpy matplotlib ta --quiet\n"
      ]
    },
    {
      "cell_type": "code",
      "source": [
        "!pip install XlsxWriter"
      ],
      "metadata": {
        "colab": {
          "base_uri": "https://localhost:8080/"
        },
        "id": "-afW6Nx38bai",
        "outputId": "a0d40c07-b369-4227-dbfe-d01ab8cca8fe"
      },
      "execution_count": null,
      "outputs": [
        {
          "output_type": "stream",
          "name": "stdout",
          "text": [
            "Collecting XlsxWriter\n",
            "  Downloading XlsxWriter-3.2.3-py3-none-any.whl.metadata (2.7 kB)\n",
            "Downloading XlsxWriter-3.2.3-py3-none-any.whl (169 kB)\n",
            "\u001b[?25l   \u001b[90m━━━━━━━━━━━━━━━━━━━━━━━━━━━━━━━━━━━━━━━━\u001b[0m \u001b[32m0.0/169.4 kB\u001b[0m \u001b[31m?\u001b[0m eta \u001b[36m-:--:--\u001b[0m\r\u001b[2K   \u001b[91m━━━━━━━━━━━━━━━━━━━━━━━━━━━━━\u001b[0m\u001b[90m╺\u001b[0m\u001b[90m━━━━━━━━━━\u001b[0m \u001b[32m122.9/169.4 kB\u001b[0m \u001b[31m3.5 MB/s\u001b[0m eta \u001b[36m0:00:01\u001b[0m\r\u001b[2K   \u001b[90m━━━━━━━━━━━━━━━━━━━━━━━━━━━━━━━━━━━━━━━━\u001b[0m \u001b[32m169.4/169.4 kB\u001b[0m \u001b[31m3.2 MB/s\u001b[0m eta \u001b[36m0:00:00\u001b[0m\n",
            "\u001b[?25hInstalling collected packages: XlsxWriter\n",
            "Successfully installed XlsxWriter-3.2.3\n"
          ]
        }
      ]
    },
    {
      "cell_type": "code",
      "source": [
        "import yfinance as yf\n",
        "import pandas as pd\n",
        "import numpy as np\n",
        "import matplotlib.pyplot as plt\n",
        "\n",
        "import requests\n",
        "import xlsxwriter\n",
        "import math"
      ],
      "metadata": {
        "id": "0rM4h1ad6TlG"
      },
      "execution_count": null,
      "outputs": []
    },
    {
      "cell_type": "code",
      "source": [
        "import yfinance as yf\n",
        "\n",
        "# Ticker symbol (e.g., Apple)\n",
        "ticker = yf.Ticker(\"AAPL\")\n",
        "\n",
        "# Get latest price\n",
        "price = ticker.history(period=\"1d\")['Close'][0]\n",
        "\n",
        "# Get market cap\n",
        "market_cap = ticker.info['marketCap']\n",
        "\n",
        "print(f\"Price: ${price}\")\n",
        "print(f\"Market Cap: ${market_cap:,}\")\n"
      ],
      "metadata": {
        "id": "fXAfIvRv6oDw",
        "outputId": "f0ca2082-2800-43a9-83ce-d6f1a097002b",
        "colab": {
          "base_uri": "https://localhost:8080/"
        }
      },
      "execution_count": null,
      "outputs": [
        {
          "output_type": "stream",
          "name": "stderr",
          "text": [
            "<ipython-input-6-20067f3ac4a7>:7: FutureWarning: Series.__getitem__ treating keys as positions is deprecated. In a future version, integer keys will always be treated as labels (consistent with DataFrame behavior). To access a value by position, use `ser.iloc[pos]`\n",
            "  price = ticker.history(period=\"1d\")['Close'][0]\n"
          ]
        },
        {
          "output_type": "stream",
          "name": "stdout",
          "text": [
            "Price: $195.27000427246094\n",
            "Market Cap: $2,916,513,742,848\n"
          ]
        }
      ]
    },
    {
      "cell_type": "code",
      "source": [
        "import yfinance as yf\n",
        "\n",
        "tickers = [\"AAPL\", \"MSFT\", \"GOOGL\"]\n",
        "for symbol in tickers:\n",
        "    stock = yf.Ticker(symbol)\n",
        "    price = stock.history(period=\"1d\")['Close'][0]\n",
        "    market_cap = stock.info['marketCap']\n",
        "    print(f\"{symbol} → Price: ${price:.2f}, Market Cap: ${market_cap:,}\")\n"
      ],
      "metadata": {
        "id": "s9_Ga3Gy0QlH",
        "outputId": "67295143-5e79-40ee-9fdf-ba523fa9b86b",
        "colab": {
          "base_uri": "https://localhost:8080/"
        }
      },
      "execution_count": null,
      "outputs": [
        {
          "output_type": "stream",
          "name": "stderr",
          "text": [
            "<ipython-input-7-08532f4ac762>:6: FutureWarning: Series.__getitem__ treating keys as positions is deprecated. In a future version, integer keys will always be treated as labels (consistent with DataFrame behavior). To access a value by position, use `ser.iloc[pos]`\n",
            "  price = stock.history(period=\"1d\")['Close'][0]\n"
          ]
        },
        {
          "output_type": "stream",
          "name": "stdout",
          "text": [
            "AAPL → Price: $195.27, Market Cap: $2,916,513,742,848\n"
          ]
        },
        {
          "output_type": "stream",
          "name": "stderr",
          "text": [
            "<ipython-input-7-08532f4ac762>:6: FutureWarning: Series.__getitem__ treating keys as positions is deprecated. In a future version, integer keys will always be treated as labels (consistent with DataFrame behavior). To access a value by position, use `ser.iloc[pos]`\n",
            "  price = stock.history(period=\"1d\")['Close'][0]\n"
          ]
        },
        {
          "output_type": "stream",
          "name": "stdout",
          "text": [
            "MSFT → Price: $450.18, Market Cap: $3,345,980,850,176\n",
            "GOOGL → Price: $168.47, Market Cap: $2,050,448,293,888\n"
          ]
        },
        {
          "output_type": "stream",
          "name": "stderr",
          "text": [
            "<ipython-input-7-08532f4ac762>:6: FutureWarning: Series.__getitem__ treating keys as positions is deprecated. In a future version, integer keys will always be treated as labels (consistent with DataFrame behavior). To access a value by position, use `ser.iloc[pos]`\n",
            "  price = stock.history(period=\"1d\")['Close'][0]\n"
          ]
        }
      ]
    },
    {
      "cell_type": "code",
      "source": [
        "import yfinance as yf\n",
        "symbol = \"AAPL\"\n",
        "ticker = yf.Ticker(symbol)\n",
        "data = ticker.info\n",
        "from pprint import pprint\n",
        "pprint(data)"
      ],
      "metadata": {
        "id": "jA_IaTGK0lWK",
        "outputId": "b89841df-b37e-43f5-d7e7-9946df04e819",
        "colab": {
          "base_uri": "https://localhost:8080/"
        }
      },
      "execution_count": null,
      "outputs": [
        {
          "output_type": "stream",
          "name": "stdout",
          "text": [
            "{'52WeekChange': 0.027790904,\n",
            " 'SandP52WeekChange': 0.09362543,\n",
            " 'address1': 'One Apple Park Way',\n",
            " 'ask': 0.0,\n",
            " 'askSize': 0,\n",
            " 'auditRisk': 7,\n",
            " 'averageAnalystRating': '2.1 - Buy',\n",
            " 'averageDailyVolume10Day': 53768440,\n",
            " 'averageDailyVolume3Month': 62505438,\n",
            " 'averageVolume': 62505438,\n",
            " 'averageVolume10days': 53768440,\n",
            " 'beta': 1.275,\n",
            " 'bid': 0.0,\n",
            " 'bidSize': 0,\n",
            " 'boardRisk': 1,\n",
            " 'bookValue': 4.471,\n",
            " 'city': 'Cupertino',\n",
            " 'companyOfficers': [{'age': 63,\n",
            "                      'exercisedValue': 0,\n",
            "                      'fiscalYear': 2024,\n",
            "                      'maxAge': 1,\n",
            "                      'name': 'Mr. Timothy D. Cook',\n",
            "                      'title': 'CEO & Director',\n",
            "                      'totalPay': 16520856,\n",
            "                      'unexercisedValue': 0,\n",
            "                      'yearBorn': 1961},\n",
            "                     {'age': 60,\n",
            "                      'exercisedValue': 0,\n",
            "                      'fiscalYear': 2024,\n",
            "                      'maxAge': 1,\n",
            "                      'name': 'Mr. Jeffrey E. Williams',\n",
            "                      'title': 'Chief Operating Officer',\n",
            "                      'totalPay': 5020737,\n",
            "                      'unexercisedValue': 0,\n",
            "                      'yearBorn': 1964},\n",
            "                     {'age': 60,\n",
            "                      'exercisedValue': 0,\n",
            "                      'fiscalYear': 2024,\n",
            "                      'maxAge': 1,\n",
            "                      'name': 'Ms. Katherine L. Adams',\n",
            "                      'title': 'Senior VP, General Counsel & Secretary',\n",
            "                      'totalPay': 5022182,\n",
            "                      'unexercisedValue': 0,\n",
            "                      'yearBorn': 1964},\n",
            "                     {'age': 57,\n",
            "                      'exercisedValue': 0,\n",
            "                      'fiscalYear': 2024,\n",
            "                      'maxAge': 1,\n",
            "                      'name': \"Ms. Deirdre  O'Brien\",\n",
            "                      'title': 'Chief People Officer & Senior VP of Retail',\n",
            "                      'totalPay': 5022182,\n",
            "                      'unexercisedValue': 0,\n",
            "                      'yearBorn': 1967},\n",
            "                     {'age': 52,\n",
            "                      'exercisedValue': 0,\n",
            "                      'fiscalYear': 2024,\n",
            "                      'maxAge': 1,\n",
            "                      'name': 'Mr. Kevan  Parekh',\n",
            "                      'title': 'Senior VP & CFO',\n",
            "                      'unexercisedValue': 0,\n",
            "                      'yearBorn': 1972},\n",
            "                     {'exercisedValue': 0,\n",
            "                      'fiscalYear': 2024,\n",
            "                      'maxAge': 1,\n",
            "                      'name': 'Mr. Chris  Kondo',\n",
            "                      'title': 'Senior Director of Corporate Accounting',\n",
            "                      'unexercisedValue': 0},\n",
            "                     {'exercisedValue': 0,\n",
            "                      'fiscalYear': 2024,\n",
            "                      'maxAge': 1,\n",
            "                      'name': 'Suhasini  Chandramouli',\n",
            "                      'title': 'Director of Investor Relations',\n",
            "                      'unexercisedValue': 0},\n",
            "                     {'exercisedValue': 0,\n",
            "                      'fiscalYear': 2024,\n",
            "                      'maxAge': 1,\n",
            "                      'name': 'Ms. Kristin Huguet Quayle',\n",
            "                      'title': 'Vice President of Worldwide Communications',\n",
            "                      'unexercisedValue': 0},\n",
            "                     {'exercisedValue': 0,\n",
            "                      'fiscalYear': 2024,\n",
            "                      'maxAge': 1,\n",
            "                      'name': 'Mr. Greg  Joswiak',\n",
            "                      'title': 'Senior Vice President of Worldwide Marketing',\n",
            "                      'unexercisedValue': 0},\n",
            "                     {'age': 50,\n",
            "                      'exercisedValue': 0,\n",
            "                      'fiscalYear': 2024,\n",
            "                      'maxAge': 1,\n",
            "                      'name': 'Mr. Adrian  Perica',\n",
            "                      'title': 'Vice President of Corporate Development',\n",
            "                      'unexercisedValue': 0,\n",
            "                      'yearBorn': 1974}],\n",
            " 'compensationAsOfEpochDate': 1735603200,\n",
            " 'compensationRisk': 3,\n",
            " 'corporateActions': [],\n",
            " 'country': 'United States',\n",
            " 'cryptoTradeable': False,\n",
            " 'currency': 'USD',\n",
            " 'currentPrice': 195.27,\n",
            " 'currentRatio': 0.821,\n",
            " 'customPriceAlertConfidence': 'HIGH',\n",
            " 'dateShortInterest': 1745971200,\n",
            " 'dayHigh': 197.7,\n",
            " 'dayLow': 193.46,\n",
            " 'debtToEquity': 146.994,\n",
            " 'displayName': 'Apple',\n",
            " 'dividendDate': 1747267200,\n",
            " 'dividendRate': 1.04,\n",
            " 'dividendYield': 0.53,\n",
            " 'earningsCallTimestampEnd': 1746133200,\n",
            " 'earningsCallTimestampStart': 1746133200,\n",
            " 'earningsGrowth': 0.078,\n",
            " 'earningsQuarterlyGrowth': 0.048,\n",
            " 'earningsTimestamp': 1746131400,\n",
            " 'earningsTimestampEnd': 1754308800,\n",
            " 'earningsTimestampStart': 1753873140,\n",
            " 'ebitda': 138865999872,\n",
            " 'ebitdaMargins': 0.34685,\n",
            " 'enterpriseToEbitda': 21.36,\n",
            " 'enterpriseToRevenue': 7.409,\n",
            " 'enterpriseValue': 2966206808064,\n",
            " 'epsCurrentYear': 7.19078,\n",
            " 'epsForward': 8.31,\n",
            " 'epsTrailingTwelveMonths': 6.42,\n",
            " 'esgPopulated': False,\n",
            " 'exDividendDate': 1747008000,\n",
            " 'exchange': 'NMS',\n",
            " 'exchangeDataDelayedBy': 0,\n",
            " 'exchangeTimezoneName': 'America/New_York',\n",
            " 'exchangeTimezoneShortName': 'EDT',\n",
            " 'executiveTeam': [],\n",
            " 'fiftyDayAverage': 206.48,\n",
            " 'fiftyDayAverageChange': -11.209991,\n",
            " 'fiftyDayAverageChangePercent': -0.05429093,\n",
            " 'fiftyTwoWeekChangePercent': 2.7790904,\n",
            " 'fiftyTwoWeekHigh': 260.1,\n",
            " 'fiftyTwoWeekHighChange': -64.83,\n",
            " 'fiftyTwoWeekHighChangePercent': -0.2492503,\n",
            " 'fiftyTwoWeekLow': 169.21,\n",
            " 'fiftyTwoWeekLowChange': 26.059998,\n",
            " 'fiftyTwoWeekLowChangePercent': 0.15400979,\n",
            " 'fiftyTwoWeekRange': '169.21 - 260.1',\n",
            " 'financialCurrency': 'USD',\n",
            " 'firstTradeDateMilliseconds': 345479400000,\n",
            " 'fiveYearAvgDividendYield': 0.57,\n",
            " 'floatShares': 14911480604,\n",
            " 'forwardEps': 8.31,\n",
            " 'forwardPE': 23.498194,\n",
            " 'freeCashflow': 97251500032,\n",
            " 'fullExchangeName': 'NasdaqGS',\n",
            " 'fullTimeEmployees': 164000,\n",
            " 'gmtOffSetMilliseconds': -14400000,\n",
            " 'governanceEpochDate': 1746057600,\n",
            " 'grossMargins': 0.46632,\n",
            " 'grossProfits': 186699005952,\n",
            " 'hasPrePostMarketData': True,\n",
            " 'heldPercentInsiders': 0.02085,\n",
            " 'heldPercentInstitutions': 0.62839,\n",
            " 'impliedSharesOutstanding': 14949300224,\n",
            " 'industry': 'Consumer Electronics',\n",
            " 'industryDisp': 'Consumer Electronics',\n",
            " 'industryKey': 'consumer-electronics',\n",
            " 'irWebsite': 'http://investor.apple.com/',\n",
            " 'isEarningsDateEstimate': True,\n",
            " 'language': 'en-US',\n",
            " 'lastDividendDate': 1747008000,\n",
            " 'lastDividendValue': 0.26,\n",
            " 'lastFiscalYearEnd': 1727481600,\n",
            " 'lastSplitDate': 1598832000,\n",
            " 'lastSplitFactor': '4:1',\n",
            " 'longBusinessSummary': 'Apple Inc. designs, manufactures, and markets '\n",
            "                        'smartphones, personal computers, tablets, wearables, '\n",
            "                        'and accessories worldwide. The company offers iPhone, '\n",
            "                        'a line of smartphones; Mac, a line of personal '\n",
            "                        'computers; iPad, a line of multi-purpose tablets; and '\n",
            "                        'wearables, home, and accessories comprising AirPods, '\n",
            "                        'Apple TV, Apple Watch, Beats products, and HomePod. '\n",
            "                        'It also provides AppleCare support and cloud '\n",
            "                        'services; and operates various platforms, including '\n",
            "                        'the App Store that allow customers to discover and '\n",
            "                        'download applications and digital content, such as '\n",
            "                        'books, music, video, games, and podcasts, as well as '\n",
            "                        'advertising services include third-party licensing '\n",
            "                        'arrangements and its own advertising platforms. In '\n",
            "                        'addition, the company offers various '\n",
            "                        'subscription-based services, such as Apple Arcade, a '\n",
            "                        'game subscription service; Apple Fitness+, a '\n",
            "                        'personalized fitness service; Apple Music, which '\n",
            "                        'offers users a curated listening experience with '\n",
            "                        'on-demand radio stations; Apple News+, a subscription '\n",
            "                        'news and magazine service; Apple TV+, which offers '\n",
            "                        'exclusive original content; Apple Card, a co-branded '\n",
            "                        'credit card; and Apple Pay, a cashless payment '\n",
            "                        'service, as well as licenses its intellectual '\n",
            "                        'property. The company serves consumers, and small and '\n",
            "                        'mid-sized businesses; and the education, enterprise, '\n",
            "                        'and government markets. It distributes third-party '\n",
            "                        'applications for its products through the App Store. '\n",
            "                        'The company also sells its products through its '\n",
            "                        'retail and online stores, and direct sales force; and '\n",
            "                        'third-party cellular network carriers, wholesalers, '\n",
            "                        'retailers, and resellers. Apple Inc. was founded in '\n",
            "                        '1976 and is headquartered in Cupertino, California.',\n",
            " 'longName': 'Apple Inc.',\n",
            " 'market': 'us_market',\n",
            " 'marketCap': 2916513742848,\n",
            " 'marketState': 'PRE',\n",
            " 'maxAge': 86400,\n",
            " 'messageBoardId': 'finmb_24937',\n",
            " 'mostRecentQuarter': 1743206400,\n",
            " 'netIncomeToCommon': 97294000128,\n",
            " 'nextFiscalYearEnd': 1759017600,\n",
            " 'numberOfAnalystOpinions': 41,\n",
            " 'open': 193.665,\n",
            " 'operatingCashflow': 109555998720,\n",
            " 'operatingMargins': 0.31028998,\n",
            " 'overallRisk': 1,\n",
            " 'payoutRatio': 0.1558,\n",
            " 'phone': '(408) 996-1010',\n",
            " 'preMarketChange': 3.2299957,\n",
            " 'preMarketChangePercent': 1.6541177,\n",
            " 'preMarketPrice': 198.5,\n",
            " 'preMarketTime': 1748350758,\n",
            " 'previousClose': 201.36,\n",
            " 'priceEpsCurrentYear': 27.155607,\n",
            " 'priceHint': 2,\n",
            " 'priceToBook': 43.674793,\n",
            " 'priceToSalesTrailing12Months': 7.284619,\n",
            " 'profitMargins': 0.24301,\n",
            " 'quickRatio': 0.68,\n",
            " 'quoteSourceName': 'Nasdaq Real Time Price',\n",
            " 'quoteType': 'EQUITY',\n",
            " 'recommendationKey': 'buy',\n",
            " 'recommendationMean': 2.08696,\n",
            " 'region': 'US',\n",
            " 'regularMarketChange': -6.0899963,\n",
            " 'regularMarketChangePercent': -3.0244322,\n",
            " 'regularMarketDayHigh': 197.7,\n",
            " 'regularMarketDayLow': 193.46,\n",
            " 'regularMarketDayRange': '193.46 - 197.7',\n",
            " 'regularMarketOpen': 193.665,\n",
            " 'regularMarketPreviousClose': 201.36,\n",
            " 'regularMarketPrice': 195.27,\n",
            " 'regularMarketTime': 1748030401,\n",
            " 'regularMarketVolume': 78432918,\n",
            " 'returnOnAssets': 0.23809999,\n",
            " 'returnOnEquity': 1.38015,\n",
            " 'revenueGrowth': 0.051,\n",
            " 'revenuePerShare': 26.455,\n",
            " 'sector': 'Technology',\n",
            " 'sectorDisp': 'Technology',\n",
            " 'sectorKey': 'technology',\n",
            " 'shareHolderRightsRisk': 1,\n",
            " 'sharesOutstanding': 14935799808,\n",
            " 'sharesPercentSharesOut': 0.0073,\n",
            " 'sharesShort': 108598767,\n",
            " 'sharesShortPreviousMonthDate': 1743379200,\n",
            " 'sharesShortPriorMonth': 112333139,\n",
            " 'shortName': 'Apple Inc.',\n",
            " 'shortPercentOfFloat': 0.0073,\n",
            " 'shortRatio': 1.43,\n",
            " 'sourceInterval': 15,\n",
            " 'state': 'CA',\n",
            " 'symbol': 'AAPL',\n",
            " 'targetHighPrice': 300.0,\n",
            " 'targetLowPrice': 170.62,\n",
            " 'targetMeanPrice': 228.75928,\n",
            " 'targetMedianPrice': 230.0,\n",
            " 'totalCash': 48497999872,\n",
            " 'totalCashPerShare': 3.247,\n",
            " 'totalDebt': 98186002432,\n",
            " 'totalRevenue': 400366010368,\n",
            " 'tradeable': False,\n",
            " 'trailingAnnualDividendRate': 1.0,\n",
            " 'trailingAnnualDividendYield': 0.0049662297,\n",
            " 'trailingEps': 6.42,\n",
            " 'trailingPE': 30.415888,\n",
            " 'trailingPegRatio': 1.9879,\n",
            " 'triggerable': True,\n",
            " 'twoHundredDayAverage': 225.9317,\n",
            " 'twoHundredDayAverageChange': -30.661697,\n",
            " 'twoHundredDayAverageChangePercent': -0.13571224,\n",
            " 'typeDisp': 'Equity',\n",
            " 'volume': 78432918,\n",
            " 'website': 'https://www.apple.com',\n",
            " 'zip': '95014'}\n"
          ]
        }
      ]
    },
    {
      "cell_type": "code",
      "source": [
        "import pandas as pd\n",
        "\n",
        "# Define columns\n",
        "my_columns = ['Ticker', 'Stock Price', 'Market Capitalization', 'Number of Shares to Buy']\n",
        "final_dataframe = pd.DataFrame(columns=my_columns)\n",
        "\n",
        "# Create a new row as a DataFrame (not a Series)\n",
        "new_row = pd.DataFrame([{\n",
        "    'Ticker': symbol,\n",
        "    'Stock Price': price,\n",
        "    'Market Capitalization': market_cap,\n",
        "    'Number of Shares to Buy': 'N/A'\n",
        "}])\n",
        "\n",
        "# Concatenate the new row with the existing DataFrame\n",
        "final_dataframe = pd.concat([final_dataframe, new_row], ignore_index=True)\n",
        "\n",
        "# Display the updated DataFrame\n",
        "final_dataframe\n"
      ],
      "metadata": {
        "id": "GFISM8yl1b0L",
        "outputId": "e5da47c5-ca74-49d9-eb8c-41b0e8160480",
        "colab": {
          "base_uri": "https://localhost:8080/",
          "height": 144
        }
      },
      "execution_count": null,
      "outputs": [
        {
          "output_type": "stream",
          "name": "stderr",
          "text": [
            "<ipython-input-13-816698515495>:16: FutureWarning: The behavior of DataFrame concatenation with empty or all-NA entries is deprecated. In a future version, this will no longer exclude empty or all-NA columns when determining the result dtypes. To retain the old behavior, exclude the relevant entries before the concat operation.\n",
            "  final_dataframe = pd.concat([final_dataframe, new_row], ignore_index=True)\n"
          ]
        },
        {
          "output_type": "execute_result",
          "data": {
            "text/plain": [
              "  Ticker  Stock Price Market Capitalization Number of Shares to Buy\n",
              "0   AAPL   168.470001         2050448293888                     N/A"
            ],
            "text/html": [
              "\n",
              "  <div id=\"df-9ce24f14-274f-4e96-a50d-879ecda28b19\" class=\"colab-df-container\">\n",
              "    <div>\n",
              "<style scoped>\n",
              "    .dataframe tbody tr th:only-of-type {\n",
              "        vertical-align: middle;\n",
              "    }\n",
              "\n",
              "    .dataframe tbody tr th {\n",
              "        vertical-align: top;\n",
              "    }\n",
              "\n",
              "    .dataframe thead th {\n",
              "        text-align: right;\n",
              "    }\n",
              "</style>\n",
              "<table border=\"1\" class=\"dataframe\">\n",
              "  <thead>\n",
              "    <tr style=\"text-align: right;\">\n",
              "      <th></th>\n",
              "      <th>Ticker</th>\n",
              "      <th>Stock Price</th>\n",
              "      <th>Market Capitalization</th>\n",
              "      <th>Number of Shares to Buy</th>\n",
              "    </tr>\n",
              "  </thead>\n",
              "  <tbody>\n",
              "    <tr>\n",
              "      <th>0</th>\n",
              "      <td>AAPL</td>\n",
              "      <td>168.470001</td>\n",
              "      <td>2050448293888</td>\n",
              "      <td>N/A</td>\n",
              "    </tr>\n",
              "  </tbody>\n",
              "</table>\n",
              "</div>\n",
              "    <div class=\"colab-df-buttons\">\n",
              "\n",
              "  <div class=\"colab-df-container\">\n",
              "    <button class=\"colab-df-convert\" onclick=\"convertToInteractive('df-9ce24f14-274f-4e96-a50d-879ecda28b19')\"\n",
              "            title=\"Convert this dataframe to an interactive table.\"\n",
              "            style=\"display:none;\">\n",
              "\n",
              "  <svg xmlns=\"http://www.w3.org/2000/svg\" height=\"24px\" viewBox=\"0 -960 960 960\">\n",
              "    <path d=\"M120-120v-720h720v720H120Zm60-500h600v-160H180v160Zm220 220h160v-160H400v160Zm0 220h160v-160H400v160ZM180-400h160v-160H180v160Zm440 0h160v-160H620v160ZM180-180h160v-160H180v160Zm440 0h160v-160H620v160Z\"/>\n",
              "  </svg>\n",
              "    </button>\n",
              "\n",
              "  <style>\n",
              "    .colab-df-container {\n",
              "      display:flex;\n",
              "      gap: 12px;\n",
              "    }\n",
              "\n",
              "    .colab-df-convert {\n",
              "      background-color: #E8F0FE;\n",
              "      border: none;\n",
              "      border-radius: 50%;\n",
              "      cursor: pointer;\n",
              "      display: none;\n",
              "      fill: #1967D2;\n",
              "      height: 32px;\n",
              "      padding: 0 0 0 0;\n",
              "      width: 32px;\n",
              "    }\n",
              "\n",
              "    .colab-df-convert:hover {\n",
              "      background-color: #E2EBFA;\n",
              "      box-shadow: 0px 1px 2px rgba(60, 64, 67, 0.3), 0px 1px 3px 1px rgba(60, 64, 67, 0.15);\n",
              "      fill: #174EA6;\n",
              "    }\n",
              "\n",
              "    .colab-df-buttons div {\n",
              "      margin-bottom: 4px;\n",
              "    }\n",
              "\n",
              "    [theme=dark] .colab-df-convert {\n",
              "      background-color: #3B4455;\n",
              "      fill: #D2E3FC;\n",
              "    }\n",
              "\n",
              "    [theme=dark] .colab-df-convert:hover {\n",
              "      background-color: #434B5C;\n",
              "      box-shadow: 0px 1px 3px 1px rgba(0, 0, 0, 0.15);\n",
              "      filter: drop-shadow(0px 1px 2px rgba(0, 0, 0, 0.3));\n",
              "      fill: #FFFFFF;\n",
              "    }\n",
              "  </style>\n",
              "\n",
              "    <script>\n",
              "      const buttonEl =\n",
              "        document.querySelector('#df-9ce24f14-274f-4e96-a50d-879ecda28b19 button.colab-df-convert');\n",
              "      buttonEl.style.display =\n",
              "        google.colab.kernel.accessAllowed ? 'block' : 'none';\n",
              "\n",
              "      async function convertToInteractive(key) {\n",
              "        const element = document.querySelector('#df-9ce24f14-274f-4e96-a50d-879ecda28b19');\n",
              "        const dataTable =\n",
              "          await google.colab.kernel.invokeFunction('convertToInteractive',\n",
              "                                                    [key], {});\n",
              "        if (!dataTable) return;\n",
              "\n",
              "        const docLinkHtml = 'Like what you see? Visit the ' +\n",
              "          '<a target=\"_blank\" href=https://colab.research.google.com/notebooks/data_table.ipynb>data table notebook</a>'\n",
              "          + ' to learn more about interactive tables.';\n",
              "        element.innerHTML = '';\n",
              "        dataTable['output_type'] = 'display_data';\n",
              "        await google.colab.output.renderOutput(dataTable, element);\n",
              "        const docLink = document.createElement('div');\n",
              "        docLink.innerHTML = docLinkHtml;\n",
              "        element.appendChild(docLink);\n",
              "      }\n",
              "    </script>\n",
              "  </div>\n",
              "\n",
              "\n",
              "  <div id=\"id_4e6156de-bea3-4e40-ac13-c97c4de02d0a\">\n",
              "    <style>\n",
              "      .colab-df-generate {\n",
              "        background-color: #E8F0FE;\n",
              "        border: none;\n",
              "        border-radius: 50%;\n",
              "        cursor: pointer;\n",
              "        display: none;\n",
              "        fill: #1967D2;\n",
              "        height: 32px;\n",
              "        padding: 0 0 0 0;\n",
              "        width: 32px;\n",
              "      }\n",
              "\n",
              "      .colab-df-generate:hover {\n",
              "        background-color: #E2EBFA;\n",
              "        box-shadow: 0px 1px 2px rgba(60, 64, 67, 0.3), 0px 1px 3px 1px rgba(60, 64, 67, 0.15);\n",
              "        fill: #174EA6;\n",
              "      }\n",
              "\n",
              "      [theme=dark] .colab-df-generate {\n",
              "        background-color: #3B4455;\n",
              "        fill: #D2E3FC;\n",
              "      }\n",
              "\n",
              "      [theme=dark] .colab-df-generate:hover {\n",
              "        background-color: #434B5C;\n",
              "        box-shadow: 0px 1px 3px 1px rgba(0, 0, 0, 0.15);\n",
              "        filter: drop-shadow(0px 1px 2px rgba(0, 0, 0, 0.3));\n",
              "        fill: #FFFFFF;\n",
              "      }\n",
              "    </style>\n",
              "    <button class=\"colab-df-generate\" onclick=\"generateWithVariable('final_dataframe')\"\n",
              "            title=\"Generate code using this dataframe.\"\n",
              "            style=\"display:none;\">\n",
              "\n",
              "  <svg xmlns=\"http://www.w3.org/2000/svg\" height=\"24px\"viewBox=\"0 0 24 24\"\n",
              "       width=\"24px\">\n",
              "    <path d=\"M7,19H8.4L18.45,9,17,7.55,7,17.6ZM5,21V16.75L18.45,3.32a2,2,0,0,1,2.83,0l1.4,1.43a1.91,1.91,0,0,1,.58,1.4,1.91,1.91,0,0,1-.58,1.4L9.25,21ZM18.45,9,17,7.55Zm-12,3A5.31,5.31,0,0,0,4.9,8.1,5.31,5.31,0,0,0,1,6.5,5.31,5.31,0,0,0,4.9,4.9,5.31,5.31,0,0,0,6.5,1,5.31,5.31,0,0,0,8.1,4.9,5.31,5.31,0,0,0,12,6.5,5.46,5.46,0,0,0,6.5,12Z\"/>\n",
              "  </svg>\n",
              "    </button>\n",
              "    <script>\n",
              "      (() => {\n",
              "      const buttonEl =\n",
              "        document.querySelector('#id_4e6156de-bea3-4e40-ac13-c97c4de02d0a button.colab-df-generate');\n",
              "      buttonEl.style.display =\n",
              "        google.colab.kernel.accessAllowed ? 'block' : 'none';\n",
              "\n",
              "      buttonEl.onclick = () => {\n",
              "        google.colab.notebook.generateWithVariable('final_dataframe');\n",
              "      }\n",
              "      })();\n",
              "    </script>\n",
              "  </div>\n",
              "\n",
              "    </div>\n",
              "  </div>\n"
            ],
            "application/vnd.google.colaboratory.intrinsic+json": {
              "type": "dataframe",
              "variable_name": "final_dataframe",
              "summary": "{\n  \"name\": \"final_dataframe\",\n  \"rows\": 1,\n  \"fields\": [\n    {\n      \"column\": \"Ticker\",\n      \"properties\": {\n        \"dtype\": \"string\",\n        \"num_unique_values\": 1,\n        \"samples\": [\n          \"AAPL\"\n        ],\n        \"semantic_type\": \"\",\n        \"description\": \"\"\n      }\n    },\n    {\n      \"column\": \"Stock Price\",\n      \"properties\": {\n        \"dtype\": \"number\",\n        \"std\": null,\n        \"min\": 168.47000122070312,\n        \"max\": 168.47000122070312,\n        \"num_unique_values\": 1,\n        \"samples\": [\n          168.47000122070312\n        ],\n        \"semantic_type\": \"\",\n        \"description\": \"\"\n      }\n    },\n    {\n      \"column\": \"Market Capitalization\",\n      \"properties\": {\n        \"dtype\": \"date\",\n        \"min\": 2050448293888,\n        \"max\": 2050448293888,\n        \"num_unique_values\": 1,\n        \"samples\": [\n          2050448293888\n        ],\n        \"semantic_type\": \"\",\n        \"description\": \"\"\n      }\n    },\n    {\n      \"column\": \"Number of Shares to Buy\",\n      \"properties\": {\n        \"dtype\": \"string\",\n        \"num_unique_values\": 1,\n        \"samples\": [\n          \"N/A\"\n        ],\n        \"semantic_type\": \"\",\n        \"description\": \"\"\n      }\n    }\n  ]\n}"
            }
          },
          "metadata": {},
          "execution_count": 13
        }
      ]
    },
    {
      "cell_type": "code",
      "source": [
        "import yfinance as yf\n",
        "import pandas as pd\n",
        "stocks=pd.DataFrame({'Ticker':['AAPL','MSFT','GOOGL','AMZN']})\n",
        "my_columns=['Ticker', 'Stock Price','Market Capitalization','Number of Shares to Buy']\n",
        "final_dataframe = pd.DataFrame(columns=my_columns)\n",
        "\n",
        "for stock in stocks['Ticker'][:5]:\n",
        "  ticker  = yf.Ticker(stock)\n",
        "  data=ticker.info\n",
        "\n",
        "  try:\n",
        "    final_dataframe = pd.concat([final_dataframe, pd.DataFrame([[\n",
        "        stock,\n",
        "        data['currentPrice'],\n",
        "        data['marketCap'],\n",
        "        'N/A'\n",
        "    ]], columns=my_columns)], ignore_index=True)\n",
        "  except KeyError:\n",
        "    print(f\"Missing data for {stock}\")\n",
        "\n",
        "print((final_dataframe))"
      ],
      "metadata": {
        "id": "qp4D4uS6-srr",
        "outputId": "7d74541f-29b7-4afe-d0ea-918e008ab071",
        "colab": {
          "base_uri": "https://localhost:8080/"
        }
      },
      "execution_count": 4,
      "outputs": [
        {
          "output_type": "stream",
          "name": "stderr",
          "text": [
            "<ipython-input-4-3c2bdbfe91cf>:12: FutureWarning: The behavior of DataFrame concatenation with empty or all-NA entries is deprecated. In a future version, this will no longer exclude empty or all-NA columns when determining the result dtypes. To retain the old behavior, exclude the relevant entries before the concat operation.\n",
            "  final_dataframe = pd.concat([final_dataframe, pd.DataFrame([[\n"
          ]
        },
        {
          "output_type": "stream",
          "name": "stdout",
          "text": [
            "  Ticker  Stock Price Market Capitalization Number of Shares to Buy\n",
            "0   AAPL     200.2150         2990370979840                     N/A\n",
            "1   MSFT     458.3000         3406332952576                     N/A\n",
            "2  GOOGL     171.8306         2091350097920                     N/A\n",
            "3   AMZN     205.8550         2185438953472                     N/A\n"
          ]
        }
      ]
    },
    {
      "cell_type": "code",
      "source": [
        "def chunks(lst, n):\n",
        "  for i in range(0, len(lst), n):\n",
        "    yield lst[i:i+n]"
      ],
      "metadata": {
        "id": "Fj3GwPTeFIMj"
      },
      "execution_count": 5,
      "outputs": []
    },
    {
      "cell_type": "code",
      "source": [
        "symbol_groups = list(chunks(stocks['Ticker'],100))\n",
        "symbol_groups"
      ],
      "metadata": {
        "id": "I--CzoJAGbrH",
        "outputId": "da359c37-96b9-45a1-aa3b-8ab5d9393954",
        "colab": {
          "base_uri": "https://localhost:8080/"
        }
      },
      "execution_count": 6,
      "outputs": [
        {
          "output_type": "execute_result",
          "data": {
            "text/plain": [
              "[0     AAPL\n",
              " 1     MSFT\n",
              " 2    GOOGL\n",
              " 3     AMZN\n",
              " Name: Ticker, dtype: object]"
            ]
          },
          "metadata": {},
          "execution_count": 6
        }
      ]
    },
    {
      "cell_type": "code",
      "source": [
        "import pandas as pd\n",
        "url = 'https://raw.githubusercontent.com/datasets/s-and-p-500-companies/master/data/constituents.csv'\n",
        "stocks = pd.read_csv(url)\n",
        "print(stocks.head())\n",
        "stocks.rename(columns={'Symbol': 'Ticker'}, inplace = True)\n",
        "symbol_groups = list(chunks(stocks['Ticker'],100))\n",
        "symbol_groups"
      ],
      "metadata": {
        "colab": {
          "base_uri": "https://localhost:8080/"
        },
        "id": "2HLAiE4kgKNR",
        "outputId": "3f89144b-f9ee-4cde-8554-1c2c613120f2"
      },
      "execution_count": 11,
      "outputs": [
        {
          "output_type": "stream",
          "name": "stdout",
          "text": [
            "  Symbol             Security             GICS Sector  \\\n",
            "0    MMM                   3M             Industrials   \n",
            "1    AOS          A. O. Smith             Industrials   \n",
            "2    ABT  Abbott Laboratories             Health Care   \n",
            "3   ABBV               AbbVie             Health Care   \n",
            "4    ACN            Accenture  Information Technology   \n",
            "\n",
            "                GICS Sub-Industry    Headquarters Location  Date added  \\\n",
            "0        Industrial Conglomerates    Saint Paul, Minnesota  1957-03-04   \n",
            "1               Building Products     Milwaukee, Wisconsin  2017-07-26   \n",
            "2           Health Care Equipment  North Chicago, Illinois  1957-03-04   \n",
            "3                   Biotechnology  North Chicago, Illinois  2012-12-31   \n",
            "4  IT Consulting & Other Services          Dublin, Ireland  2011-07-06   \n",
            "\n",
            "       CIK      Founded  \n",
            "0    66740         1902  \n",
            "1    91142         1916  \n",
            "2     1800         1888  \n",
            "3  1551152  2013 (1888)  \n",
            "4  1467373         1989  \n"
          ]
        },
        {
          "output_type": "execute_result",
          "data": {
            "text/plain": [
              "[0      MMM\n",
              " 1      AOS\n",
              " 2      ABT\n",
              " 3     ABBV\n",
              " 4      ACN\n",
              "       ... \n",
              " 95      CF\n",
              " 96     CRL\n",
              " 97    SCHW\n",
              " 98    CHTR\n",
              " 99     CVX\n",
              " Name: Ticker, Length: 100, dtype: object,\n",
              " 100     CMG\n",
              " 101      CB\n",
              " 102     CHD\n",
              " 103      CI\n",
              " 104    CINF\n",
              "        ... \n",
              " 195    FSLR\n",
              " 196      FE\n",
              " 197      FI\n",
              " 198       F\n",
              " 199    FTNT\n",
              " Name: Ticker, Length: 100, dtype: object,\n",
              " 200     FTV\n",
              " 201    FOXA\n",
              " 202     FOX\n",
              " 203     BEN\n",
              " 204     FCX\n",
              "        ... \n",
              " 295    LULU\n",
              " 296     LYB\n",
              " 297     MTB\n",
              " 298     MPC\n",
              " 299    MKTX\n",
              " Name: Ticker, Length: 100, dtype: object,\n",
              " 300     MAR\n",
              " 301     MMC\n",
              " 302     MLM\n",
              " 303     MAS\n",
              " 304      MA\n",
              "        ... \n",
              " 395    REGN\n",
              " 396      RF\n",
              " 397     RSG\n",
              " 398     RMD\n",
              " 399    RVTY\n",
              " Name: Ticker, Length: 100, dtype: object,\n",
              " 400     ROK\n",
              " 401     ROL\n",
              " 402     ROP\n",
              " 403    ROST\n",
              " 404     RCL\n",
              "        ... \n",
              " 495    WDAY\n",
              " 496    WYNN\n",
              " 497     XEL\n",
              " 498     XYL\n",
              " 499     YUM\n",
              " Name: Ticker, Length: 100, dtype: object,\n",
              " 500    ZBRA\n",
              " 501     ZBH\n",
              " 502     ZTS\n",
              " Name: Ticker, dtype: object]"
            ]
          },
          "metadata": {},
          "execution_count": 11
        }
      ]
    },
    {
      "cell_type": "code",
      "source": [
        "symbol_groups = list(chunks(stocks['Ticker'],100))\n",
        "symbol_strings=[]\n",
        "for i in range(0, len(symbol_groups)):\n",
        "  symbol_strings.append(','.join(symbol_groups[i]))\n",
        "  #print(symbol_strings[i])\n",
        "final_dataframe = pd.DataFrame(columns = my_columns)\n",
        "\n",
        "for symbol_string in symbol_strings:\n",
        "  print(symbol_string)"
      ],
      "metadata": {
        "colab": {
          "base_uri": "https://localhost:8080/"
        },
        "id": "kckEYhHJhr7s",
        "outputId": "a3ee1925-4e71-4652-e3c0-61684c330938"
      },
      "execution_count": 14,
      "outputs": [
        {
          "output_type": "stream",
          "name": "stdout",
          "text": [
            "MMM,AOS,ABT,ABBV,ACN,ADBE,AMD,AES,AFL,A,APD,ABNB,AKAM,ALB,ARE,ALGN,ALLE,LNT,ALL,GOOGL,GOOG,MO,AMZN,AMCR,AEE,AEP,AXP,AIG,AMT,AWK,AMP,AME,AMGN,APH,ADI,ANSS,AON,APA,APO,AAPL,AMAT,APTV,ACGL,ADM,ANET,AJG,AIZ,T,ATO,ADSK,ADP,AZO,AVB,AVY,AXON,BKR,BALL,BAC,BAX,BDX,BRK.B,BBY,TECH,BIIB,BLK,BX,BK,BA,BKNG,BSX,BMY,AVGO,BR,BRO,BF.B,BLDR,BG,BXP,CHRW,CDNS,CZR,CPT,CPB,COF,CAH,KMX,CCL,CARR,CAT,CBOE,CBRE,CDW,COR,CNC,CNP,CF,CRL,SCHW,CHTR,CVX\n",
            "CMG,CB,CHD,CI,CINF,CTAS,CSCO,C,CFG,CLX,CME,CMS,KO,CTSH,COIN,CL,CMCSA,CAG,COP,ED,STZ,CEG,COO,CPRT,GLW,CPAY,CTVA,CSGP,COST,CTRA,CRWD,CCI,CSX,CMI,CVS,DHR,DRI,DVA,DAY,DECK,DE,DELL,DAL,DVN,DXCM,FANG,DLR,DG,DLTR,D,DPZ,DASH,DOV,DOW,DHI,DTE,DUK,DD,EMN,ETN,EBAY,ECL,EIX,EW,EA,ELV,EMR,ENPH,ETR,EOG,EPAM,EQT,EFX,EQIX,EQR,ERIE,ESS,EL,EG,EVRG,ES,EXC,EXE,EXPE,EXPD,EXR,XOM,FFIV,FDS,FICO,FAST,FRT,FDX,FIS,FITB,FSLR,FE,FI,F,FTNT\n",
            "FTV,FOXA,FOX,BEN,FCX,GRMN,IT,GE,GEHC,GEV,GEN,GNRC,GD,GIS,GM,GPC,GILD,GPN,GL,GDDY,GS,HAL,HIG,HAS,HCA,DOC,HSIC,HSY,HES,HPE,HLT,HOLX,HD,HON,HRL,HST,HWM,HPQ,HUBB,HUM,HBAN,HII,IBM,IEX,IDXX,ITW,INCY,IR,PODD,INTC,ICE,IFF,IP,IPG,INTU,ISRG,IVZ,INVH,IQV,IRM,JBHT,JBL,JKHY,J,JNJ,JCI,JPM,JNPR,K,KVUE,KDP,KEY,KEYS,KMB,KIM,KMI,KKR,KLAC,KHC,KR,LHX,LH,LRCX,LW,LVS,LDOS,LEN,LII,LLY,LIN,LYV,LKQ,LMT,L,LOW,LULU,LYB,MTB,MPC,MKTX\n",
            "MAR,MMC,MLM,MAS,MA,MTCH,MKC,MCD,MCK,MDT,MRK,META,MET,MTD,MGM,MCHP,MU,MSFT,MAA,MRNA,MHK,MOH,TAP,MDLZ,MPWR,MNST,MCO,MS,MOS,MSI,MSCI,NDAQ,NTAP,NFLX,NEM,NWSA,NWS,NEE,NKE,NI,NDSN,NSC,NTRS,NOC,NCLH,NRG,NUE,NVDA,NVR,NXPI,ORLY,OXY,ODFL,OMC,ON,OKE,ORCL,OTIS,PCAR,PKG,PLTR,PANW,PARA,PH,PAYX,PAYC,PYPL,PNR,PEP,PFE,PCG,PM,PSX,PNW,PNC,POOL,PPG,PPL,PFG,PG,PGR,PLD,PRU,PEG,PTC,PSA,PHM,PWR,QCOM,DGX,RL,RJF,RTX,O,REG,REGN,RF,RSG,RMD,RVTY\n",
            "ROK,ROL,ROP,ROST,RCL,SPGI,CRM,SBAC,SLB,STX,SRE,NOW,SHW,SPG,SWKS,SJM,SW,SNA,SOLV,SO,LUV,SWK,SBUX,STT,STLD,STE,SYK,SMCI,SYF,SNPS,SYY,TMUS,TROW,TTWO,TPR,TRGP,TGT,TEL,TDY,TER,TSLA,TXN,TPL,TXT,TMO,TJX,TKO,TSCO,TT,TDG,TRV,TRMB,TFC,TYL,TSN,USB,UBER,UDR,ULTA,UNP,UAL,UPS,URI,UNH,UHS,VLO,VTR,VLTO,VRSN,VRSK,VZ,VRTX,VTRS,VICI,V,VST,VMC,WRB,GWW,WAB,WBA,WMT,DIS,WBD,WM,WAT,WEC,WFC,WELL,WST,WDC,WY,WSM,WMB,WTW,WDAY,WYNN,XEL,XYL,YUM\n",
            "ZBRA,ZBH,ZTS\n"
          ]
        }
      ]
    }
  ]
}